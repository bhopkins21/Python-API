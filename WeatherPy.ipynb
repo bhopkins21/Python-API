WeatherPy
Note
Instructions have been included for each segment. You do not have to follow them exactly, but they are included to help you think through the steps.
In [1]:
# Dependencies and Setup
import matplotlib.pyplot as plt
import pandas as pd
import numpy as np
import requests
import time

# Import API key
from api_keys import api_key

# Incorporated citipy to determine city based on latitude and longitude
from citipy import citipy

# Output File (CSV)
output_data_file = "output_data/cities.csv"

# Range of latitudes and longitudes
lat_range = (-90, 90)
lng_range = (-180, 180)
Generate Cities List
In [4]:
# List for holding lat_lngs and cities
lat_lngs = []
cities = []

# Create a set of random lat and lng combinations
lats = np.random.uniform(low=-90.000, high=90.000, size=1500)
lngs = np.random.uniform(low=-180.000, high=180.000, size=1500)
lat_lngs = zip(lats, lngs)

# Identify nearest city for each lat, lng combination
for lat_lng in lat_lngs:
    city = citipy.nearest_city(lat_lng[0], lat_lng[1]).city_name
    
    # If the city is unique, then add it to a our cities list
    if city not in cities:
        cities.append(city)

# Print the city count to confirm sufficient count
len(cities)
Out[4]:
627
Perform API Calls
Perform a weather check on each city using a series of successive API calls.
Include a print log of each city as it'sbeing processed (with the city number and city name).
In [5]:
# Create row to process down the list
row_counter = 1
# Create a dictionary with parameters using api
settings = {"appid": api_key, "units": "imperial"}
# Call the input URL
base_url = "http://api.openweathermap.org/data/2.5/weather?"
# Create query url
query_url = f"{base_url}appid={settings['appid']}&units={settings['units']}&q="
In [6]:
# set lists for the dataframe
city_two = []
cloudinesses = []
dates = []
humidities = []
lats = []
lngs = []
max_temps = []
wind_speeds = []
countries = []

# set initial count quantities for organization
count_one = 0
set_one = 1

# loops for creating dataframe columns
print("Beginning Data Retrieval\n------------------------------")
for city in cities:
    try:
        response = requests.get(query_url + city.replace(" ","&")).json()
        cloudinesses.append(response['clouds']['all'])
        countries.append(response['sys']['country'])
        dates.append(response['dt'])
        humidities.append(response['main']['humidity'])
        lats.append(response['coord']['lat'])
        lngs.append(response['coord']['lon'])
        max_temps.append(response['main']['temp_max'])
        wind_speeds.append(response['wind']['speed'])
        if count_one > 48:
            count_one = 1
            set_one += 1
            city_two.append(city)
        else:
            count_one += 1
            city_two.append(city)
        print(f"Processing Record {count_one} of Set {set_one} | {city}")
    except Exception:
        print("City not found. Skipping...")
print("------------------------------\nData Retrieval Complete\n------------------------------")
Beginning Data Retrieval
------------------------------
Processing Record 1 of Set 1 | valparaiso
Processing Record 2 of Set 1 | georgetown
City not found. Skipping...
Processing Record 3 of Set 1 | penzance
Processing Record 4 of Set 1 | atuona
City not found. Skipping...
City not found. Skipping...
Processing Record 5 of Set 1 | bambous virieux
Processing Record 6 of Set 1 | albany
Processing Record 7 of Set 1 | port alfred
Processing Record 8 of Set 1 | upernavik
Processing Record 9 of Set 1 | bethel
Processing Record 10 of Set 1 | nanortalik
City not found. Skipping...
Processing Record 11 of Set 1 | banyo
Processing Record 12 of Set 1 | punta arenas
Processing Record 13 of Set 1 | mercedes
Processing Record 14 of Set 1 | karpogory
Processing Record 15 of Set 1 | lebu
Processing Record 16 of Set 1 | maputo
Processing Record 17 of Set 1 | kapaa
City not found. Skipping...
Processing Record 18 of Set 1 | rikitea
Processing Record 19 of Set 1 | kavieng
Processing Record 20 of Set 1 | longyearbyen
Processing Record 21 of Set 1 | victoria
Processing Record 22 of Set 1 | umtata
City not found. Skipping...
Processing Record 23 of Set 1 | fujin
Processing Record 24 of Set 1 | ushuaia
Processing Record 25 of Set 1 | mataura
City not found. Skipping...
Processing Record 26 of Set 1 | merauke
Processing Record 27 of Set 1 | yellowknife
Processing Record 28 of Set 1 | charlestown
Processing Record 29 of Set 1 | esperance
City not found. Skipping...
Processing Record 30 of Set 1 | puerto ayora
Processing Record 31 of Set 1 | zhezkazgan
Processing Record 32 of Set 1 | mar del plata
Processing Record 33 of Set 1 | kryry
Processing Record 34 of Set 1 | san patricio
Processing Record 35 of Set 1 | ostrovnoy
Processing Record 36 of Set 1 | airai
Processing Record 37 of Set 1 | mandera
Processing Record 38 of Set 1 | douglas
Processing Record 39 of Set 1 | port elizabeth
Processing Record 40 of Set 1 | saldanha
Processing Record 41 of Set 1 | khatanga
Processing Record 42 of Set 1 | osakarovka
City not found. Skipping...
Processing Record 43 of Set 1 | faanui
Processing Record 44 of Set 1 | poletayevo
City not found. Skipping...
Processing Record 45 of Set 1 | hithadhoo
Processing Record 46 of Set 1 | mount pleasant
Processing Record 47 of Set 1 | kaitangata
Processing Record 48 of Set 1 | ancud
Processing Record 49 of Set 1 | nikolayevsk-na-amure
Processing Record 1 of Set 2 | hermanus
Processing Record 2 of Set 2 | tasiilaq
Processing Record 3 of Set 2 | tucuman
Processing Record 4 of Set 2 | kavaratti
Processing Record 5 of Set 2 | castro
Processing Record 6 of Set 2 | avarua
Processing Record 7 of Set 2 | bolivar
City not found. Skipping...
City not found. Skipping...
Processing Record 8 of Set 2 | jamestown
Processing Record 9 of Set 2 | vestmannaeyjar
City not found. Skipping...
Processing Record 10 of Set 2 | thompson
City not found. Skipping...
Processing Record 11 of Set 2 | clyde river
City not found. Skipping...
Processing Record 12 of Set 2 | cabo san lucas
Processing Record 13 of Set 2 | tumut
City not found. Skipping...
City not found. Skipping...
Processing Record 14 of Set 2 | chuy
Processing Record 15 of Set 2 | pangai
City not found. Skipping...
Processing Record 16 of Set 2 | santander jimenez
Processing Record 17 of Set 2 | deputatskiy
City not found. Skipping...
City not found. Skipping...
Processing Record 18 of Set 2 | mantua
Processing Record 19 of Set 2 | martapura
City not found. Skipping...
Processing Record 20 of Set 2 | tuktoyaktuk
City not found. Skipping...
City not found. Skipping...
Processing Record 21 of Set 2 | bose
City not found. Skipping...
Processing Record 22 of Set 2 | masvingo
Processing Record 23 of Set 2 | korgen
Processing Record 24 of Set 2 | batagay
Processing Record 25 of Set 2 | cape town
Processing Record 26 of Set 2 | vaini
Processing Record 27 of Set 2 | port lincoln
Processing Record 28 of Set 2 | hobart
Processing Record 29 of Set 2 | cockburn town
Processing Record 30 of Set 2 | miles city
Processing Record 31 of Set 2 | morrope
Processing Record 32 of Set 2 | zhigansk
Processing Record 33 of Set 2 | sobolevo
Processing Record 34 of Set 2 | cidreira
Processing Record 35 of Set 2 | guerrero negro
Processing Record 36 of Set 2 | iracoubo
Processing Record 37 of Set 2 | jagtial
Processing Record 38 of Set 2 | labuan
Processing Record 39 of Set 2 | pevek
City not found. Skipping...
Processing Record 40 of Set 2 | bluff
Processing Record 41 of Set 2 | nam tha
Processing Record 42 of Set 2 | sisimiut
Processing Record 43 of Set 2 | lahat
Processing Record 44 of Set 2 | doha
City not found. Skipping...
Processing Record 45 of Set 2 | klyuchevskiy
Processing Record 46 of Set 2 | macamic
Processing Record 47 of Set 2 | maragogi
Processing Record 48 of Set 2 | narsaq
Processing Record 49 of Set 2 | fort nelson
City not found. Skipping...
Processing Record 1 of Set 3 | nikolskoye
City not found. Skipping...
City not found. Skipping...
Processing Record 2 of Set 3 | pisco
Processing Record 3 of Set 3 | leiyang
Processing Record 4 of Set 3 | husavik
Processing Record 5 of Set 3 | kodinsk
Processing Record 6 of Set 3 | jijiga
Processing Record 7 of Set 3 | gizo
Processing Record 8 of Set 3 | swan hill
Processing Record 9 of Set 3 | tripoli
Processing Record 10 of Set 3 | qaanaaq
Processing Record 11 of Set 3 | saskylakh
Processing Record 12 of Set 3 | visnes
Processing Record 13 of Set 3 | kruisfontein
Processing Record 14 of Set 3 | rio grande
Processing Record 15 of Set 3 | kastamonu
Processing Record 16 of Set 3 | biak
Processing Record 17 of Set 3 | winnemucca
Processing Record 18 of Set 3 | mitsamiouli
Processing Record 19 of Set 3 | giyani
Processing Record 20 of Set 3 | ginda
Processing Record 21 of Set 3 | aykhal
Processing Record 22 of Set 3 | muzhi
Processing Record 23 of Set 3 | port hedland
City not found. Skipping...
Processing Record 24 of Set 3 | saint-philippe
Processing Record 25 of Set 3 | faya
Processing Record 26 of Set 3 | taos
Processing Record 27 of Set 3 | tiksi
Processing Record 28 of Set 3 | cherskiy
Processing Record 29 of Set 3 | butaritari
Processing Record 30 of Set 3 | chapleau
Processing Record 31 of Set 3 | cabrobo
Processing Record 32 of Set 3 | shingu
Processing Record 33 of Set 3 | smithers
Processing Record 34 of Set 3 | bredasdorp
Processing Record 35 of Set 3 | kumluca
Processing Record 36 of Set 3 | rioja
Processing Record 37 of Set 3 | ribeira grande
Processing Record 38 of Set 3 | ochakiv
Processing Record 39 of Set 3 | belyy yar
Processing Record 40 of Set 3 | chokurdakh
Processing Record 41 of Set 3 | anadyr
Processing Record 42 of Set 3 | port-gentil
Processing Record 43 of Set 3 | pedernales
Processing Record 44 of Set 3 | mys shmidta
Processing Record 45 of Set 3 | sao filipe
Processing Record 46 of Set 3 | paamiut
Processing Record 47 of Set 3 | zavetnoye
Processing Record 48 of Set 3 | helong
Processing Record 49 of Set 3 | olinda
Processing Record 1 of Set 4 | iqaluit
Processing Record 2 of Set 4 | quelimane
Processing Record 3 of Set 4 | bialogard
Processing Record 4 of Set 4 | borazjan
Processing Record 5 of Set 4 | acari
Processing Record 6 of Set 4 | constitucion
Processing Record 7 of Set 4 | ust-kuyga
Processing Record 8 of Set 4 | barrow
Processing Record 9 of Set 4 | taoudenni
Processing Record 10 of Set 4 | port hardy
Processing Record 11 of Set 4 | severo-kurilsk
Processing Record 12 of Set 4 | carnarvon
City not found. Skipping...
Processing Record 13 of Set 4 | banepa
Processing Record 14 of Set 4 | peto
Processing Record 15 of Set 4 | beira
Processing Record 16 of Set 4 | desaguadero
Processing Record 17 of Set 4 | lasa
Processing Record 18 of Set 4 | brindisi
Processing Record 19 of Set 4 | vestmanna
Processing Record 20 of Set 4 | nouakchott
Processing Record 21 of Set 4 | usogorsk
Processing Record 22 of Set 4 | rawson
Processing Record 23 of Set 4 | hope
Processing Record 24 of Set 4 | torbay
Processing Record 25 of Set 4 | katsuura
Processing Record 26 of Set 4 | skhisma
Processing Record 27 of Set 4 | ketchikan
City not found. Skipping...
Processing Record 28 of Set 4 | san quintin
Processing Record 29 of Set 4 | bilma
Processing Record 30 of Set 4 | bud
City not found. Skipping...
Processing Record 31 of Set 4 | provideniya
Processing Record 32 of Set 4 | najran
Processing Record 33 of Set 4 | prince rupert
Processing Record 34 of Set 4 | norrtalje
City not found. Skipping...
Processing Record 35 of Set 4 | hilo
Processing Record 36 of Set 4 | antofagasta
Processing Record 37 of Set 4 | laguna
Processing Record 38 of Set 4 | puri
Processing Record 39 of Set 4 | yumen
Processing Record 40 of Set 4 | creston
Processing Record 41 of Set 4 | sur
City not found. Skipping...
Processing Record 42 of Set 4 | lyngseidet
Processing Record 43 of Set 4 | gabu
Processing Record 44 of Set 4 | bulgan
Processing Record 45 of Set 4 | karasjok
City not found. Skipping...
Processing Record 46 of Set 4 | morondava
Processing Record 47 of Set 4 | college
Processing Record 48 of Set 4 | lingao
Processing Record 49 of Set 4 | cardiff
Processing Record 1 of Set 5 | tabou
Processing Record 2 of Set 5 | souillac
Processing Record 3 of Set 5 | sorland
Processing Record 4 of Set 5 | virginia beach
Processing Record 5 of Set 5 | marsa matruh
Processing Record 6 of Set 5 | longyan
City not found. Skipping...
Processing Record 7 of Set 5 | grahamstown
City not found. Skipping...
Processing Record 8 of Set 5 | evanston
Processing Record 9 of Set 5 | iskateley
City not found. Skipping...
Processing Record 10 of Set 5 | klyuchi
Processing Record 11 of Set 5 | birzai
Processing Record 12 of Set 5 | hambantota
Processing Record 13 of Set 5 | buckeye
City not found. Skipping...
Processing Record 14 of Set 5 | honiara
Processing Record 15 of Set 5 | puteyets
Processing Record 16 of Set 5 | lorengau
Processing Record 17 of Set 5 | zalha
City not found. Skipping...
Processing Record 18 of Set 5 | sobral
Processing Record 19 of Set 5 | santa cruz del norte
Processing Record 20 of Set 5 | mahebourg
Processing Record 21 of Set 5 | lata
Processing Record 22 of Set 5 | lagoa
Processing Record 23 of Set 5 | high level
Processing Record 24 of Set 5 | kahului
City not found. Skipping...
Processing Record 25 of Set 5 | mosetse
Processing Record 26 of Set 5 | fairbanks
Processing Record 27 of Set 5 | kommunisticheskiy
City not found. Skipping...
Processing Record 28 of Set 5 | bereda
Processing Record 29 of Set 5 | ponta do sol
Processing Record 30 of Set 5 | kostomuksha
Processing Record 31 of Set 5 | hammerfest
Processing Record 32 of Set 5 | leningradskiy
Processing Record 33 of Set 5 | prince george
Processing Record 34 of Set 5 | svetlogorsk
Processing Record 35 of Set 5 | vao
Processing Record 36 of Set 5 | zyryanka
Processing Record 37 of Set 5 | nha trang
Processing Record 38 of Set 5 | goure
Processing Record 39 of Set 5 | kangaatsiaq
Processing Record 40 of Set 5 | buraydah
Processing Record 41 of Set 5 | springdale
Processing Record 42 of Set 5 | beringovskiy
Processing Record 43 of Set 5 | alofi
Processing Record 44 of Set 5 | ilulissat
Processing Record 45 of Set 5 | lompoc
City not found. Skipping...
Processing Record 46 of Set 5 | jaguaruna
Processing Record 47 of Set 5 | junin
Processing Record 48 of Set 5 | udachnyy
Processing Record 49 of Set 5 | sao joao da barra
Processing Record 1 of Set 6 | vyartsilya
Processing Record 2 of Set 6 | gornyak
Processing Record 3 of Set 6 | khandyga
City not found. Skipping...
City not found. Skipping...
Processing Record 4 of Set 6 | rocha
Processing Record 5 of Set 6 | nome
Processing Record 6 of Set 6 | brignoles
Processing Record 7 of Set 6 | ljungby
Processing Record 8 of Set 6 | lielvarde
Processing Record 9 of Set 6 | tiznit
Processing Record 10 of Set 6 | tongliao
Processing Record 11 of Set 6 | inirida
Processing Record 12 of Set 6 | makakilo city
City not found. Skipping...
Processing Record 13 of Set 6 | tricase
Processing Record 14 of Set 6 | taltal
Processing Record 15 of Set 6 | mae hong son
Processing Record 16 of Set 6 | mamallapuram
Processing Record 17 of Set 6 | peringat
Processing Record 18 of Set 6 | serov
City not found. Skipping...
Processing Record 19 of Set 6 | drezna
Processing Record 20 of Set 6 | arraial do cabo
City not found. Skipping...
Processing Record 21 of Set 6 | ternovka
Processing Record 22 of Set 6 | carbonia
Processing Record 23 of Set 6 | rio brilhante
Processing Record 24 of Set 6 | tuatapere
Processing Record 25 of Set 6 | talnakh
Processing Record 26 of Set 6 | padang
Processing Record 27 of Set 6 | vardo
Processing Record 28 of Set 6 | aksu
City not found. Skipping...
Processing Record 29 of Set 6 | kudahuvadhoo
Processing Record 30 of Set 6 | grand river south east
City not found. Skipping...
Processing Record 31 of Set 6 | bam
City not found. Skipping...
Processing Record 32 of Set 6 | tehachapi
City not found. Skipping...
Processing Record 33 of Set 6 | salalah
Processing Record 34 of Set 6 | aksarka
Processing Record 35 of Set 6 | san cristobal
Processing Record 36 of Set 6 | bilibino
Processing Record 37 of Set 6 | erdenet
City not found. Skipping...
Processing Record 38 of Set 6 | fortuna
Processing Record 39 of Set 6 | okhotsk
City not found. Skipping...
Processing Record 40 of Set 6 | lincoln
Processing Record 41 of Set 6 | pacific grove
Processing Record 42 of Set 6 | namatanai
Processing Record 43 of Set 6 | shimoda
Processing Record 44 of Set 6 | badou
Processing Record 45 of Set 6 | puerto cabezas
Processing Record 46 of Set 6 | santa maria
Processing Record 47 of Set 6 | rorvik
Processing Record 48 of Set 6 | klaksvik
Processing Record 49 of Set 6 | diu
Processing Record 1 of Set 7 | calbuco
Processing Record 2 of Set 7 | pundaguitan
Processing Record 3 of Set 7 | marsh harbour
Processing Record 4 of Set 7 | east london
Processing Record 5 of Set 7 | thinadhoo
Processing Record 6 of Set 7 | hienghene
Processing Record 7 of Set 7 | ahipara
Processing Record 8 of Set 7 | poso
Processing Record 9 of Set 7 | usinsk
City not found. Skipping...
City not found. Skipping...
Processing Record 10 of Set 7 | rogozno
Processing Record 11 of Set 7 | puerto del rosario
Processing Record 12 of Set 7 | bang mun nak
Processing Record 13 of Set 7 | norman wells
Processing Record 14 of Set 7 | hamilton
Processing Record 15 of Set 7 | dogondoutchi
Processing Record 16 of Set 7 | hailar
Processing Record 17 of Set 7 | grindavik
Processing Record 18 of Set 7 | dikson
Processing Record 19 of Set 7 | tura
Processing Record 20 of Set 7 | kokopo
Processing Record 21 of Set 7 | hualmay
City not found. Skipping...
Processing Record 22 of Set 7 | savannakhet
Processing Record 23 of Set 7 | mount gambier
Processing Record 24 of Set 7 | flinders
City not found. Skipping...
Processing Record 25 of Set 7 | mayumba
Processing Record 26 of Set 7 | sanaur
Processing Record 27 of Set 7 | ryotsu
Processing Record 28 of Set 7 | birin
Processing Record 29 of Set 7 | poronaysk
Processing Record 30 of Set 7 | tabas
Processing Record 31 of Set 7 | beloha
Processing Record 32 of Set 7 | tianpeng
Processing Record 33 of Set 7 | beyneu
Processing Record 34 of Set 7 | yar-sale
Processing Record 35 of Set 7 | honggang
Processing Record 36 of Set 7 | at-bashi
Processing Record 37 of Set 7 | karlovo
Processing Record 38 of Set 7 | dongsheng
Processing Record 39 of Set 7 | vila franca do campo
Processing Record 40 of Set 7 | zlitan
City not found. Skipping...
Processing Record 41 of Set 7 | coahuayana
Processing Record 42 of Set 7 | sitka
Processing Record 43 of Set 7 | goleta
Processing Record 44 of Set 7 | tigil
Processing Record 45 of Set 7 | balikpapan
Processing Record 46 of Set 7 | alta floresta
Processing Record 47 of Set 7 | lamar
Processing Record 48 of Set 7 | yinchuan
Processing Record 49 of Set 7 | aklavik
Processing Record 1 of Set 8 | along
Processing Record 2 of Set 8 | wamba
Processing Record 3 of Set 8 | nara
Processing Record 4 of Set 8 | bermejo
Processing Record 5 of Set 8 | vagur
Processing Record 6 of Set 8 | assiniboia
Processing Record 7 of Set 8 | labuhan
Processing Record 8 of Set 8 | fangshan
Processing Record 9 of Set 8 | naryan-mar
Processing Record 10 of Set 8 | kodiak
Processing Record 11 of Set 8 | manuk mangkaw
Processing Record 12 of Set 8 | mareeba
Processing Record 13 of Set 8 | pahrump
City not found. Skipping...
Processing Record 14 of Set 8 | marica
Processing Record 15 of Set 8 | vaitape
Processing Record 16 of Set 8 | coihaique
Processing Record 17 of Set 8 | cartagena
Processing Record 18 of Set 8 | cabedelo
Processing Record 19 of Set 8 | yankton
Processing Record 20 of Set 8 | sechura
Processing Record 21 of Set 8 | harper
Processing Record 22 of Set 8 | vila velha
Processing Record 23 of Set 8 | camacha
Processing Record 24 of Set 8 | les cayes
Processing Record 25 of Set 8 | san jose
Processing Record 26 of Set 8 | yeovil
Processing Record 27 of Set 8 | pangnirtung
Processing Record 28 of Set 8 | banda aceh
City not found. Skipping...
Processing Record 29 of Set 8 | dhidhdhoo
Processing Record 30 of Set 8 | pailon
Processing Record 31 of Set 8 | kisangani
Processing Record 32 of Set 8 | alice springs
Processing Record 33 of Set 8 | namie
Processing Record 34 of Set 8 | qasigiannguit
City not found. Skipping...
Processing Record 35 of Set 8 | mbuji-mayi
Processing Record 36 of Set 8 | cayenne
Processing Record 37 of Set 8 | pitimbu
Processing Record 38 of Set 8 | rio gallegos
Processing Record 39 of Set 8 | tyubuk
Processing Record 40 of Set 8 | norfolk
Processing Record 41 of Set 8 | nuuk
Processing Record 42 of Set 8 | hasaki
City not found. Skipping...
Processing Record 43 of Set 8 | chara
Processing Record 44 of Set 8 | neuquen
City not found. Skipping...
Processing Record 45 of Set 8 | nishihara
Processing Record 46 of Set 8 | wundanyi
Processing Record 47 of Set 8 | palmer
City not found. Skipping...
Processing Record 48 of Set 8 | masterton
Processing Record 49 of Set 8 | novaya igirma
Processing Record 1 of Set 9 | erdaojiang
Processing Record 2 of Set 9 | logstor
City not found. Skipping...
Processing Record 3 of Set 9 | caravelas
City not found. Skipping...
Processing Record 4 of Set 9 | pendleton
City not found. Skipping...
Processing Record 5 of Set 9 | jinchang
Processing Record 6 of Set 9 | inta
Processing Record 7 of Set 9 | hastings
Processing Record 8 of Set 9 | sioux lookout
Processing Record 9 of Set 9 | raahe
Processing Record 10 of Set 9 | leh
Processing Record 11 of Set 9 | santa maria del oro
Processing Record 12 of Set 9 | pangody
City not found. Skipping...
Processing Record 13 of Set 9 | san ramon
Processing Record 14 of Set 9 | skjervoy
Processing Record 15 of Set 9 | sola
Processing Record 16 of Set 9 | berea
Processing Record 17 of Set 9 | dingle
Processing Record 18 of Set 9 | san isidro
Processing Record 19 of Set 9 | bowen
City not found. Skipping...
City not found. Skipping...
Processing Record 20 of Set 9 | naze
City not found. Skipping...
Processing Record 21 of Set 9 | havre
Processing Record 22 of Set 9 | gat
Processing Record 23 of Set 9 | lavrentiya
Processing Record 24 of Set 9 | nagorsk
City not found. Skipping...
Processing Record 25 of Set 9 | san carlos de bariloche
Processing Record 26 of Set 9 | nantucket
Processing Record 27 of Set 9 | itarema
Processing Record 28 of Set 9 | saurimo
Processing Record 29 of Set 9 | vostok
Processing Record 30 of Set 9 | boisoara
Processing Record 31 of Set 9 | trairi
Processing Record 32 of Set 9 | manokwari
Processing Record 33 of Set 9 | yuanli
Processing Record 34 of Set 9 | kihei
Processing Record 35 of Set 9 | guanica
Processing Record 36 of Set 9 | kutum
Processing Record 37 of Set 9 | hanzhong
Processing Record 38 of Set 9 | oranjemund
Processing Record 39 of Set 9 | melilla
Processing Record 40 of Set 9 | ocean springs
Processing Record 41 of Set 9 | moree
Processing Record 42 of Set 9 | bac lieu
Processing Record 43 of Set 9 | gwadar
City not found. Skipping...
Processing Record 44 of Set 9 | havre-saint-pierre
Processing Record 45 of Set 9 | sieradz
Processing Record 46 of Set 9 | meulaboh
Processing Record 47 of Set 9 | fukue
City not found. Skipping...
Processing Record 48 of Set 9 | imeni poliny osipenko
Processing Record 49 of Set 9 | robertson
Processing Record 1 of Set 10 | gamba
City not found. Skipping...
Processing Record 2 of Set 10 | otane
Processing Record 3 of Set 10 | watertown
Processing Record 4 of Set 10 | zhucheng
Processing Record 5 of Set 10 | avera
Processing Record 6 of Set 10 | marawi
Processing Record 7 of Set 10 | barra patuca
Processing Record 8 of Set 10 | komsomolskiy
Processing Record 9 of Set 10 | cairns
Processing Record 10 of Set 10 | north platte
Processing Record 11 of Set 10 | tuy hoa
Processing Record 12 of Set 10 | bandarbeyla
Processing Record 13 of Set 10 | luau
Processing Record 14 of Set 10 | sambava
City not found. Skipping...
Processing Record 15 of Set 10 | ponta delgada
Processing Record 16 of Set 10 | new norfolk
Processing Record 17 of Set 10 | codrington
Processing Record 18 of Set 10 | oyem
Processing Record 19 of Set 10 | jhansi
Processing Record 20 of Set 10 | veselynove
Processing Record 21 of Set 10 | siemiatycze
Processing Record 22 of Set 10 | uhlove
Processing Record 23 of Set 10 | almaty
Processing Record 24 of Set 10 | tateyama
Processing Record 25 of Set 10 | belmonte
Processing Record 26 of Set 10 | sicuani
Processing Record 27 of Set 10 | muros
City not found. Skipping...
Processing Record 28 of Set 10 | mao
City not found. Skipping...
City not found. Skipping...
Processing Record 29 of Set 10 | saint-cesaire
Processing Record 30 of Set 10 | atasu
Processing Record 31 of Set 10 | yulara
Processing Record 32 of Set 10 | guayaramerin
City not found. Skipping...
Processing Record 33 of Set 10 | monmouth
Processing Record 34 of Set 10 | carolina
Processing Record 35 of Set 10 | tshane
City not found. Skipping...
Processing Record 36 of Set 10 | ban nahin
Processing Record 37 of Set 10 | tazovskiy
Processing Record 38 of Set 10 | goderich
Processing Record 39 of Set 10 | mokhsogollokh
Processing Record 40 of Set 10 | filingue
Processing Record 41 of Set 10 | kozhva
Processing Record 42 of Set 10 | mirnyy
Processing Record 43 of Set 10 | kloulklubed
Processing Record 44 of Set 10 | homer
City not found. Skipping...
Processing Record 45 of Set 10 | pareora
Processing Record 46 of Set 10 | istmina
Processing Record 47 of Set 10 | quballat
Processing Record 48 of Set 10 | shelburne
City not found. Skipping...
Processing Record 49 of Set 10 | plettenberg bay
Processing Record 1 of Set 11 | touros
Processing Record 2 of Set 11 | san luis
Processing Record 3 of Set 11 | mulege
Processing Record 4 of Set 11 | totness
Processing Record 5 of Set 11 | laguna de duero
Processing Record 6 of Set 11 | sao felix do xingu
Processing Record 7 of Set 11 | monrovia
Processing Record 8 of Set 11 | kaabong
Processing Record 9 of Set 11 | san pedro
Processing Record 10 of Set 11 | zacualpan
Processing Record 11 of Set 11 | necochea
Processing Record 12 of Set 11 | inyonga
Processing Record 13 of Set 11 | pochutla
Processing Record 14 of Set 11 | waingapu
Processing Record 15 of Set 11 | san rafael
Processing Record 16 of Set 11 | vanavara
Processing Record 17 of Set 11 | north bend
City not found. Skipping...
Processing Record 18 of Set 11 | ovalle
Processing Record 19 of Set 11 | pemba
Processing Record 20 of Set 11 | dudinka
Processing Record 21 of Set 11 | luderitz
Processing Record 22 of Set 11 | hirara
Processing Record 23 of Set 11 | juneau
Processing Record 24 of Set 11 | riyadh
Processing Record 25 of Set 11 | kysyl-syr
Processing Record 26 of Set 11 | atambua
Processing Record 27 of Set 11 | iralaya
Processing Record 28 of Set 11 | brae
Processing Record 29 of Set 11 | porto novo
Processing Record 30 of Set 11 | kandrian
Processing Record 31 of Set 11 | mitu
Processing Record 32 of Set 11 | mnogovershinnyy
Processing Record 33 of Set 11 | esso
Processing Record 34 of Set 11 | esna
Processing Record 35 of Set 11 | calabozo
Processing Record 36 of Set 11 | minudasht
Processing Record 37 of Set 11 | parfenyevo
Processing Record 38 of Set 11 | caucaia
Processing Record 39 of Set 11 | kyren
Processing Record 40 of Set 11 | saint-georges
Processing Record 41 of Set 11 | montepulciano
Processing Record 42 of Set 11 | ngunguru
Processing Record 43 of Set 11 | olupona
Processing Record 44 of Set 11 | tilichiki
Processing Record 45 of Set 11 | launceston
Processing Record 46 of Set 11 | sai buri
Processing Record 47 of Set 11 | bassila
Processing Record 48 of Set 11 | skibbereen
City not found. Skipping...
Processing Record 49 of Set 11 | saint-pierre
Processing Record 1 of Set 12 | progreso
------------------------------
Data Retrieval Complete
------------------------------
Convert Raw Data to DataFrame
Export the city data into a .csv.
Display the DataFrame
In [34]:
# create a dictionary for establishing dataframe
weather_dict = {
    "City":city_two,
    "Cloudiness":cloudinesses,
    "Country":countries,
    "Date":dates,
    "Humidity":humidities,
    "Lat":lats,
    "Lng":lngs,
    "Max Temp":max_temps,
    "Wind Speed":wind_speeds
}

# establish dataframe
weather_dataframe = pd.DataFrame(weather_dict)
In [8]:
weather_dataframe.count()
Out[8]:
City          540
Cloudiness    540
Country       540
Date          540
Humidity      540
Lat           540
Lng           540
Max Temp      540
Wind Speed    540
dtype: int64
In [58]:
output_data_file = "output_data/cities.csv"
weather_dataframe
Out[58]:
City	Cloudiness	Country	Date	Humidity	Lat	Lng	Max Temp	Wind Speed
0	valparaiso	1	US	1567234549	93	41.47	-87.06	63.00	4.32
1	georgetown	0	GY	1567234736	100	6.80	-58.16	75.20	2.24
2	penzance	75	GB	1567234736	93	50.12	-5.53	62.60	19.46
3	atuona	13	PF	1567234737	79	-9.80	-139.03	79.43	18.37
4	bambous virieux	75	MU	1567234614	57	-20.26	57.41	77.00	19.46
5	albany	1	US	1567234643	87	42.65	-73.75	62.01	4.70
6	port alfred	0	CD	1567234597	36	-7.04	29.76	77.99	2.59
7	upernavik	87	GL	1567234739	55	72.79	-56.15	44.69	14.94
8	bethel	90	US	1567234739	87	60.79	-161.76	57.20	6.93
9	nanortalik	1	GL	1567234740	89	60.14	-45.24	41.09	2.51
10	banyo	100	CM	1567234266	95	6.75	11.81	63.95	1.72
11	punta arenas	75	PH	1567234553	74	14.18	121.12	86.00	14.99
12	mercedes	0	UY	1567234697	88	-33.25	-58.03	46.99	1.01
13	karpogory	98	RU	1567234743	67	64.00	44.44	56.21	1.86
14	lebu	11	ET	1567234744	78	8.96	38.73	61.25	4.12
15	maputo	40	MZ	1567234744	88	-25.97	32.57	71.60	2.24
16	kapaa	20	US	1567234746	69	22.08	-159.32	82.40	10.29
17	rikitea	72	PF	1567234487	76	-23.12	-134.97	72.23	20.31
18	kavieng	99	PG	1567234224	71	-2.57	150.80	84.11	5.95
19	longyearbyen	75	NO	1567234746	100	78.22	15.63	42.80	3.36
20	victoria	75	BN	1567234747	46	5.28	115.24	93.20	6.93
21	umtata	75	ZA	1567234729	87	-31.59	28.78	53.60	4.70
22	fujin	16	CN	1567234748	67	47.24	132.03	71.33	13.94
23	ushuaia	40	AR	1567234474	74	-54.81	-68.31	37.40	14.99
24	mataura	57	NZ	1567234751	85	-46.19	168.86	51.01	13.00
25	merauke	0	ID	1567234755	78	-8.49	140.40	76.91	21.39
26	yellowknife	20	CA	1567234674	70	62.45	-114.38	42.80	3.36
27	charlestown	1	US	1567234624	88	41.38	-71.64	70.00	3.85
28	esperance	23	AU	1567234680	48	-33.86	121.89	64.40	25.28
29	puerto ayora	0	AR	1567234543	86	-51.62	-69.23	37.40	20.80
...	...	...	...	...	...	...	...	...	...
510	luderitz	0	NA	1567235250	58	-26.65	15.16	55.40	20.80
511	hirara	75	JP	1567234719	74	24.80	125.28	89.60	10.29
512	juneau	20	US	1567235250	87	58.30	-134.42	55.99	5.61
513	riyadh	0	SA	1567235147	9	24.63	46.72	100.40	4.70
514	kysyl-syr	46	RU	1567235251	43	63.90	122.77	67.01	4.72
515	atambua	66	ID	1567235251	65	-9.11	124.89	76.19	6.15
516	iralaya	32	HN	1567235251	93	15.00	-83.23	74.75	1.03
517	brae	68	GB	1567234681	93	60.40	-1.35	53.60	4.70
518	porto novo	75	PT	1567234605	100	41.15	-8.61	64.00	5.82
519	kandrian	46	PG	1567235252	67	-6.21	149.55	80.87	11.83
520	mitu	1	IR	1567234728	40	36.20	46.09	74.21	2.51
521	mnogovershinnyy	100	RU	1567235252	91	53.94	139.92	55.13	3.89
522	esso	85	RU	1567235252	62	55.93	158.70	52.25	6.91
523	esna	5	RO	1567235253	44	45.20	27.57	77.00	9.17
524	calabozo	0	VE	1567235253	96	8.92	-67.43	72.95	2.62
525	minudasht	0	IR	1567235253	37	37.23	55.37	84.20	9.17
526	parfenyevo	55	RU	1567235253	63	58.48	43.41	56.39	2.57
527	caucaia	75	BR	1567235253	69	-3.73	-38.66	78.80	13.87
528	kyren	55	RU	1567235254	31	51.68	102.13	67.19	0.81
529	saint-georges	77	CA	1567235254	85	46.12	-70.67	55.99	1.01
530	montepulciano	78	IT	1567235254	88	43.09	11.78	78.01	4.70
531	ngunguru	0	NZ	1567235255	75	-35.62	174.50	53.01	4.00
532	olupona	98	NG	1567235255	98	7.60	4.18	71.69	3.58
533	tilichiki	66	RU	1567235255	69	60.47	166.10	56.93	10.09
534	launceston	68	AU	1567235256	62	-41.43	147.14	54.00	18.34
535	sai buri	0	FR	1567235256	87	48.74	0.03	64.99	4.70
536	bassila	57	BJ	1567235257	94	9.00	1.66	71.15	2.19
537	skibbereen	20	IE	1567235257	87	51.55	-9.27	51.80	10.29
538	saint-pierre	0	FR	1567235065	67	48.95	4.24	66.99	5.82
539	progreso	17	UY	1567235259	93	-34.68	-56.22	52.00	3.40
540 rows × 9 columns

Plotting the Data
Use proper labeling of the plots using plot titles (including date of analysis) and axes labels.
Save the plotted figures as .pngs.
Latitude vs. Temperature Plot
In [28]:
plt.scatter(weather_dataframe["Lat"],weather_dataframe["Max Temp"],edgecolors="black",facecolors="green")
plt.title("City Latitude vs. Max Temperature (08/31/19)")
plt.xlabel("Latitude")
plt.ylabel("Max Temperature (F)")
plt.grid (b=True,which="major",axis="both",linestyle="-",color="lightgrey")
plt.savefig("Latitude vs. Temperature Plot.png")
plt.show()

Latitude vs. Humidity Plot
In [29]:
plt.scatter(weather_dataframe["Lat"],weather_dataframe["Humidity"],edgecolors="black",facecolors="green")
plt.title("City Latitude vs. Humidity (08/31/19)")
plt.xlabel("Latitude")
plt.ylabel("Humidity (%)")
plt.ylim(15,105)
plt.grid (b=True,which="major",axis="both",linestyle="-",color="lightgrey")
plt.savefig("Latitude vs. Humidity Plot.png")
plt.show()

Latitude vs. Cloudiness Plot
In [30]:
plt.scatter(weather_dataframe["Lat"],weather_dataframe["Cloudiness"],edgecolors="black",facecolors="green")
plt.title("City Latitude vs. Cloudiness (08/31/19)")
plt.xlabel("Latitude")
plt.ylabel("Cloudiness (%)")
plt.grid (b=True,which="major",axis="both",linestyle="-",color="lightgrey")
plt.savefig("Latitude vs. Cloudiness Plot.png")
plt.show()

Latitude vs. Wind Speed Plot
In [31]:
plt.scatter(weather_dataframe["Lat"],weather_dataframe["Wind Speed"],edgecolors="black",facecolors="green")
plt.title("City Latitude vs. Wind Speed (08/31/19)")
plt.xlabel("Latitude")
plt.ylabel("Wind Speed (mph)")
plt.ylim(-2,34)
plt.grid (b=True,which="major",axis="both",linestyle="-",color="lightgrey")
plt.savefig("Latitude vs. Wind Speed.png")
plt.show()

In [ ]:
# 3 obesrvable trends that can be seen in the data

#1. There is a trend that can be seen in the city latitude vs max temperature for all randomized cities, we see that the maximum temperature is seen between the latitude of 20 and 40 x value. One can see this because these are cities nearest to the latitude of the equator
#2. In the scatter plot of latitude vs cloudiness, there is no observable trend, all the data points are over the place, there is no observable regression line or slope in which a coefficient value is affecting the outcome. Cloudiness is an affect from the daily weather and not a geographical pinpoint location.
#3. Another observable trend is that the api call was able to locate cities that are small in size and that are not major cities. There are a lot of cities that one may have not heard of and it's interesting to collect data that is remote.
